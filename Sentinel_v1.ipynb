{
 "cells": [
  {
   "cell_type": "code",
   "execution_count": 13,
   "metadata": {},
   "outputs": [],
   "source": [
    "# pip install –U fxcmpy\n",
    "# pip install ta\n",
    "# pip install python-socketio\n",
    "\n",
    "import fxcmpy\n",
    "\n",
    "import ta\n",
    "\n",
    "import numpy as np\n",
    "import pandas as pd\n",
    "\n",
    "TOKEN = \"35b91ea52c03042231d320e88d6ab9dfdc3d0eaa\"\n",
    "\n",
    "api = fxcmpy.fxcmpy(access_token=TOKEN, \n",
    "                    log_level='error', server='demo', \n",
    "                    log_file='log.txt')\n",
    "\n",
    "\n"
   ]
  },
  {
   "cell_type": "code",
   "execution_count": 6,
   "metadata": {},
   "outputs": [],
   "source": [
    "inst = ['EUR/USD', 'USD/JPY', 'GBP/USD', 'USD/CHF', 'EUR/CHF',\n",
    "        'AUD/USD', 'USD/CAD', 'NZD/USD', 'EUR/GBP', 'EUR/JPY',\n",
    "        'GBP/JPY', 'CHF/JPY', 'GBP/CHF', 'EUR/AUD', 'EUR/CAD', \n",
    "        'AUD/CAD', 'AUD/JPY', 'CAD/JPY', 'NZD/JPY', 'GBP/CAD', \n",
    "        'GBP/NZD', 'GBP/AUD', 'AUD/NZD',  'AUD/CHF', 'EUR/NZD',\n",
    "        'NZD/CHF', 'CAD/CHF', 'NZD/CAD',  'GER30',  'US30']"
   ]
  },
  {
   "cell_type": "code",
   "execution_count": 8,
   "metadata": {},
   "outputs": [],
   "source": [
    "\"\"\"\n",
    "Created on Wed Jan  1 21:01:11 2020\n",
    "\n",
    "@author: Ricky Macharm\n",
    "https\n",
    "\"\"\"\n",
    "\n",
    "    \n",
    "\n",
    "def HTFM(inst, p):    \n",
    "    \"\"\"To create a binary value of the High Time Frame Momentum indicator where it\n",
    "        is either going up or down or nowhere.\n",
    "    \"\"\"\n",
    "    df = api.get_candles(inst, period=p, number=200)\n",
    "    \n",
    "    # Direction Movement Indcator (DMI)\n",
    "    df['DMI_neg'] = ta.trend.adx_neg(df.bidhigh, df.bidlow, df.bidclose, n=3, fillna=False)\n",
    "    df['DMI_pos'] = ta.trend.adx_pos(df.bidhigh, df.bidlow, df.bidclose, n=3, fillna=False)\n",
    "    df['DMI_Dir'] = df.DMI_pos - df.DMI_neg\n",
    "\n",
    "    \n",
    "    # EMA Position\n",
    "    df['ma10'] = ta.trend.ema_indicator(df.bidclose, n=10, fillna=False)\n",
    "    df['ma_pos'] = df.bidclose - df.ma10\n",
    "    \n",
    "    \n",
    "    # Momentum Direction\n",
    "      \n",
    "    df['mo_Dir'] = np.where((df.ma_pos>0) & (df.DMI_Dir>0), 1,\n",
    "                           np.where((df.ma_pos<0) & (df.DMI_Dir<0), -1, 0))\n",
    "    \n",
    "    return df['mo_Dir'].iloc[-1]\n",
    "\n",
    "\n",
    "\n",
    "def action(inst,p):    \n",
    "    \"\"\"This indicator shows when the entry time frame is in the right mode for entries.\n",
    "    For short entries, we want the ROC to be overbought and the CCI to be above 0, and \n",
    "    for long entries, we want the ROC to be oversold and the CCI to be below 0.\n",
    "    \"\"\"\n",
    "    df = api.get_candles(inst, period=p, number=200)\n",
    "    \n",
    "    # Average True Range for stops\n",
    "    \n",
    "    df['H-L']=abs(df['bidhigh']-df['bidlow'])\n",
    "    df['H-PC']=abs(df['bidhigh']-df['bidclose'].shift(1))\n",
    "    df['L-PC']=abs(df['bidlow']-df['bidclose'].shift(1))\n",
    "    df['TR']=df[['H-L','H-PC','L-PC']].max(axis=1,skipna=False)\n",
    "    df['atr'] = df['TR'].rolling(5).mean()\n",
    "    \n",
    "\n",
    "       \n",
    "    # Two moving averages for trade selection\n",
    "    df['ma10'] = ta.trend.ema_indicator(df.bidclose, n=10, fillna=False)\n",
    "    df['ma25'] = ta.trend.ema_indicator(df.bidclose, n = 25, fillna = False)\n",
    "    df['ma_diff'] = df.ma10 - df.ma25\n",
    "\n",
    "\n",
    "    # Rate of Change overbought/oversold for preparation for entries\n",
    "    df['roc'] = df.bidclose - df.bidclose.shift(1)\n",
    "    \n",
    "    df['mo_pinball'] = ta.momentum.rsi(df['roc'], n=3, fillna = False)\n",
    "    \n",
    "    df['cci'] = ta.trend.cci(df.bidhigh, df.bidlow, df.bidclose, n=6, c=0.015, fillna=False)\n",
    "    \n",
    "        \n",
    "    df['Position'] = np.where(((df.mo_pinball<30) & ( df.cci<0) & (df['ma_diff'] > 0)),'BUY',\n",
    "                           np.where(((df.mo_pinball>70) & (df.cci> 0) & (df['ma_diff'] < 0)), 'SELL', 'nowhere'))\n",
    "    \n",
    "    \n",
    "    # Entry\n",
    "    def entry(df):\n",
    "        if df.Position == 'BUY': return (df.bidclose + df.atr/2 )\n",
    "        elif df.Position == 'SELL': return (df.bidclose - df.atr/2)\n",
    "        else: return 0.0\n",
    "   \n",
    "    df['ENTRY price'] = df.apply(entry, axis=1)\n",
    "    \n",
    "    # Stops\n",
    "    def stops(df):\n",
    "        if df.Position == 'BUY': return (df['ENTRY price'] - (df.atr * 2.5))\n",
    "        elif df.Position == 'SELL': return (df['ENTRY price'] + (df.atr * 2.5))\n",
    "        else: return 0.0\n",
    "\n",
    "    df['STOP price'] = df.apply(stops, axis=1)\n",
    "\n",
    "    #Take Profit\n",
    "    def take_profit(df):\n",
    "        if df.Position == 'BUY': return (df['ENTRY price'] + (5 * df.atr))\n",
    "        elif df.Position == 'SELL': return (df['ENTRY price'] - (5 * df.atr))\n",
    "        else: return 0.0\n",
    "    \n",
    "    \n",
    "    df['TAKE Profit'] = df.apply(take_profit, axis=1)\n",
    "    df['Time Frame'] = p\n",
    "    df['Instrument']=inst\n",
    "    df['Close price'] = df.bidclose\n",
    "    df['ATR pips'] = df['atr'] \n",
    "    \n",
    "    \n",
    "    return df[['Instrument', 'Time Frame','Position', 'Close price', 'ATR pips', 'ENTRY price', 'STOP price', 'TAKE Profit']]\n",
    "\n",
    "\n",
    "\n",
    "def trades(inst, p1, p2, p3):\n",
    "    if ((HTFM(inst, p1) == 1) &(HTFM(inst, p2) == 1) & (action(inst,p3)['Position'].iloc[-1] == 'BUY') | \n",
    "       (HTFM(inst, p1) == -1) & (HTFM(inst, p2) == -1) & (action(inst,p3)['Position'].iloc[-1] == 'SELL')):\n",
    "        return print(action(inst, p3).iloc[-1])\n",
    "    \n",
    "    else:  pass \n",
    "\n",
    "\n",
    "def dashboard(p1, p2, p3):\n",
    "    \n",
    "    for i in range(0, len(inst)):\n",
    "        if trades(inst[i], p1, p2, p3) == None: pass\n",
    "        else:\n",
    "                     \n",
    "            print(f'{trades(inst[i],p1, p2, p3)} ')\n",
    "               \n",
    "    return print('\\nApply due diligence. \\nEntries and stops around support or resistance. \\nWatch on Demo!')"
   ]
  },
  {
   "cell_type": "code",
   "execution_count": 9,
   "metadata": {},
   "outputs": [
    {
     "name": "stdout",
     "output_type": "stream",
     "text": [
      "\n",
      "Apply due diligence. \n",
      "Entries and stops around support or resistance. \n",
      "Watch on Demo!\n"
     ]
    }
   ],
   "source": [
    "dashboard('M1', 'W1', 'D1')"
   ]
  },
  {
   "cell_type": "code",
   "execution_count": 10,
   "metadata": {},
   "outputs": [
    {
     "name": "stdout",
     "output_type": "stream",
     "text": [
      "Instrument     AUD/JPY\n",
      "Time Frame          H4\n",
      "Position           BUY\n",
      "Close price     75.783\n",
      "ATR pips         0.236\n",
      "ENTRY price     75.901\n",
      "STOP price      75.311\n",
      "TAKE Profit     77.081\n",
      "Name: 2020-01-17 18:00:00, dtype: object\n",
      "\n",
      "Apply due diligence. \n",
      "Entries and stops around support or resistance. \n",
      "Watch on Demo!\n"
     ]
    }
   ],
   "source": [
    "dashboard('W1', 'D1', 'H4')"
   ]
  },
  {
   "cell_type": "code",
   "execution_count": 11,
   "metadata": {},
   "outputs": [
    {
     "name": "stdout",
     "output_type": "stream",
     "text": [
      "\n",
      "Apply due diligence. \n",
      "Entries and stops around support or resistance. \n",
      "Watch on Demo!\n"
     ]
    }
   ],
   "source": [
    "dashboard('D1', 'H4', 'H1')"
   ]
  },
  {
   "cell_type": "code",
   "execution_count": null,
   "metadata": {},
   "outputs": [],
   "source": []
  }
 ],
 "metadata": {
  "kernelspec": {
   "display_name": "Python 3",
   "language": "python",
   "name": "python3"
  },
  "language_info": {
   "codemirror_mode": {
    "name": "ipython",
    "version": 3
   },
   "file_extension": ".py",
   "mimetype": "text/x-python",
   "name": "python",
   "nbconvert_exporter": "python",
   "pygments_lexer": "ipython3",
   "version": "3.7.4"
  }
 },
 "nbformat": 4,
 "nbformat_minor": 4
}
